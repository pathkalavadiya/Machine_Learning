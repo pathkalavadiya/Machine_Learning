{
  "nbformat": 4,
  "nbformat_minor": 0,
  "metadata": {
    "colab": {
      "provenance": [],
      "authorship_tag": "ABX9TyPejXK4nUtEYMAv+ZrNn24q",
      "include_colab_link": true
    },
    "kernelspec": {
      "name": "python3",
      "display_name": "Python 3"
    },
    "language_info": {
      "name": "python"
    }
  },
  "cells": [
    {
      "cell_type": "markdown",
      "metadata": {
        "id": "view-in-github",
        "colab_type": "text"
      },
      "source": [
        "<a href=\"https://colab.research.google.com/github/pathkalavadiya/Machine_Learning/blob/main/Linear_Regression(scikit_learn).ipynb\" target=\"_parent\"><img src=\"https://colab.research.google.com/assets/colab-badge.svg\" alt=\"Open In Colab\"/></a>"
      ]
    },
    {
      "cell_type": "code",
      "execution_count": 7,
      "metadata": {
        "colab": {
          "base_uri": "https://localhost:8080/"
        },
        "id": "IlWk5Bf2YGJS",
        "outputId": "66c5e466-5cdd-40b2-f283-27b4da79969d"
      },
      "outputs": [
        {
          "output_type": "stream",
          "name": "stdout",
          "text": [
            "R-squared score: 0.928173305588585\n",
            "Predictions for new data: [12.45689655 13.51724138]\n"
          ]
        }
      ],
      "source": [
        "import numpy as np\n",
        "from sklearn.model_selection import train_test_split\n",
        "from sklearn.linear_model import LinearRegression\n",
        "\n",
        "x=np.array([1,2,3,4,5,6,7,8,9,10]).reshape(-1,1)\n",
        "y=np.array([2,4,5,4,6,7,8,9,10,12])\n",
        "\n",
        "x_train,x_test,y_train,y_test=train_test_split(x,y,test_size=0.2,random_state=42)\n",
        "\n",
        "model=LinearRegression()\n",
        "model.fit(x_train,y_train)\n",
        "\n",
        "y_pred = model.predict(x_test)\n",
        "score = model.score(x_test, y_test)\n",
        "\n",
        "print(f\"R-squared score: {score}\")\n",
        "\n",
        "new_data = np.array([[11], [12]])\n",
        "predictions = model.predict(new_data)\n",
        "print(f\"Predictions for new data: {predictions}\")"
      ]
    },
    {
      "cell_type": "code",
      "source": [],
      "metadata": {
        "id": "Z8WyltIdZnS8"
      },
      "execution_count": null,
      "outputs": []
    }
  ]
}